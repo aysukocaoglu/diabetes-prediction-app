{
 "cells": [
  {
   "cell_type": "markdown",
   "id": "9c95ad6a",
   "metadata": {},
   "source": [
    "# Model Training and MLflow Logging\n",
    "\n",
    "This notebook trains a logistic regression model on the diabetes dataset.  \n",
    "Model parameters and performance metrics are logged to MLflow for tracking and comparison purposes."
   ]
  },
  {
   "cell_type": "code",
   "execution_count": 1,
   "id": "96e2f505",
   "metadata": {},
   "outputs": [],
   "source": [
    "# Core libraries\n",
    "import pandas as pd\n",
    "import numpy as np\n",
    "\n",
    "# Scikit-learn\n",
    "from sklearn.model_selection import train_test_split\n",
    "from sklearn.linear_model import LogisticRegression\n",
    "from sklearn.ensemble import RandomForestClassifier\n",
    "from sklearn.neighbors import KNeighborsClassifier\n",
    "from sklearn.metrics import accuracy_score, precision_score, recall_score, f1_score, classification_report\n",
    "\n",
    "# MLflow\n",
    "import mlflow\n",
    "import mlflow.sklearn"
   ]
  },
  {
   "cell_type": "code",
   "execution_count": 2,
   "id": "0f435c5d",
   "metadata": {},
   "outputs": [],
   "source": [
    "# Load the cleaned dataset\n",
    "df = pd.read_csv(\"../data/diabetes.csv\")\n",
    "\n",
    "# Define features and target\n",
    "X = df.drop(\"Outcome\", axis=1)\n",
    "y = df[\"Outcome\"]\n",
    "\n",
    "# Split into train and test sets\n",
    "X_train, X_test, y_train, y_test = train_test_split(X, y, test_size=0.2, random_state=42)"
   ]
  },
  {
   "cell_type": "code",
   "execution_count": 3,
   "id": "812e1bed",
   "metadata": {},
   "outputs": [
    {
     "name": "stderr",
     "output_type": "stream",
     "text": [
      "2025/05/08 01:32:12 WARNING mlflow.models.model: Model logged without a signature and input example. Please set `input_example` parameter when logging the model to auto infer the model signature.\n"
     ]
    },
    {
     "name": "stdout",
     "output_type": "stream",
     "text": [
      "✅ Run successfully logged to MLflow.\n"
     ]
    }
   ],
   "source": [
    "# Start a run to log parameters, metrics, and the model\n",
    "with mlflow.start_run():\n",
    "\n",
    "    # Train model\n",
    "    model = LogisticRegression(max_iter=1000)\n",
    "    model.fit(X_train, y_train)\n",
    "\n",
    "    # Predictions\n",
    "    y_pred = model.predict(X_test)\n",
    "\n",
    "    # Metrics\n",
    "    acc = accuracy_score(y_test, y_pred)\n",
    "    prec = precision_score(y_test, y_pred)\n",
    "    rec = recall_score(y_test, y_pred)\n",
    "    f1 = f1_score(y_test, y_pred)\n",
    "\n",
    "    # Log params & metrics\n",
    "    mlflow.log_param(\"model_type\", \"LogisticRegression\")\n",
    "    mlflow.log_param(\"max_iter\", 1000)\n",
    "\n",
    "    mlflow.log_metric(\"accuracy\", acc)\n",
    "    mlflow.log_metric(\"precision\", prec)\n",
    "    mlflow.log_metric(\"recall\", rec)\n",
    "    mlflow.log_metric(\"f1_score\", f1)\n",
    "\n",
    "    # Save model\n",
    "    mlflow.sklearn.log_model(model, \"model\")\n",
    "\n",
    "    print(\"✅ Run successfully logged to MLflow.\")"
   ]
  },
  {
   "cell_type": "code",
   "execution_count": 4,
   "id": "c4414d72",
   "metadata": {},
   "outputs": [
    {
     "name": "stdout",
     "output_type": "stream",
     "text": [
      "Random Forest Results:\n",
      "              precision    recall  f1-score   support\n",
      "\n",
      "           0       0.79      0.78      0.78        99\n",
      "           1       0.61      0.62      0.61        55\n",
      "\n",
      "    accuracy                           0.72       154\n",
      "   macro avg       0.70      0.70      0.70       154\n",
      "weighted avg       0.72      0.72      0.72       154\n",
      "\n"
     ]
    },
    {
     "name": "stderr",
     "output_type": "stream",
     "text": [
      "2025/05/08 01:32:18 WARNING mlflow.models.model: Model logged without a signature and input example. Please set `input_example` parameter when logging the model to auto infer the model signature.\n"
     ]
    },
    {
     "name": "stdout",
     "output_type": "stream",
     "text": [
      "✅ RandomForest logged to MLflow.\n"
     ]
    }
   ],
   "source": [
    "# RandomForest Model\n",
    "rf_model = RandomForestClassifier(n_estimators=100, random_state=42)\n",
    "rf_model.fit(X_train, y_train)\n",
    "\n",
    "# RandomForest Evaluation\n",
    "rf_pred = rf_model.predict(X_test)\n",
    "print(\"Random Forest Results:\")\n",
    "print(classification_report(y_test, rf_pred))\n",
    "\n",
    "# RandomForest Logging\n",
    "with mlflow.start_run(run_name=\"random_forest\"):\n",
    "    mlflow.log_param(\"n_estimators\", 100)\n",
    "    mlflow.log_param(\"model_type\", \"RandomForestClassifier\")\n",
    "\n",
    "    acc_rf = accuracy_score(y_test, rf_pred)\n",
    "    f1_rf = f1_score(y_test, rf_pred)\n",
    "    mlflow.log_metric(\"accuracy\", acc_rf)\n",
    "    mlflow.log_metric(\"f1_score\", f1_rf)\n",
    "\n",
    "    mlflow.sklearn.log_model(rf_model, \"model\")\n",
    "    print(\"✅ RandomForest logged to MLflow.\")\n"
   ]
  },
  {
   "cell_type": "code",
   "execution_count": 5,
   "id": "304b3761",
   "metadata": {},
   "outputs": [
    {
     "name": "stdout",
     "output_type": "stream",
     "text": [
      "KNN Results:\n",
      "              precision    recall  f1-score   support\n",
      "\n",
      "           0       0.75      0.71      0.73        99\n",
      "           1       0.52      0.58      0.55        55\n",
      "\n",
      "    accuracy                           0.66       154\n",
      "   macro avg       0.64      0.64      0.64       154\n",
      "weighted avg       0.67      0.66      0.67       154\n",
      "\n"
     ]
    },
    {
     "name": "stderr",
     "output_type": "stream",
     "text": [
      "2025/05/08 01:32:24 WARNING mlflow.models.model: Model logged without a signature and input example. Please set `input_example` parameter when logging the model to auto infer the model signature.\n"
     ]
    },
    {
     "name": "stdout",
     "output_type": "stream",
     "text": [
      "✅ KNN logged to MLflow.\n"
     ]
    }
   ],
   "source": [
    "# KNN Model\n",
    "knn_model = KNeighborsClassifier(n_neighbors=5)\n",
    "knn_model.fit(X_train, y_train)\n",
    "\n",
    "# KNN Evaluation\n",
    "knn_pred = knn_model.predict(X_test)\n",
    "print(\"KNN Results:\")\n",
    "print(classification_report(y_test, knn_pred))\n",
    "\n",
    "# KNN Logging\n",
    "with mlflow.start_run(run_name=\"knn\"):\n",
    "    mlflow.log_param(\"n_neighbors\", 5)\n",
    "    mlflow.log_param(\"model_type\", \"KNeighborsClassifier\")\n",
    "\n",
    "    acc_knn = accuracy_score(y_test, knn_pred)\n",
    "    f1_knn = f1_score(y_test, knn_pred)\n",
    "    mlflow.log_metric(\"accuracy\", acc_knn)\n",
    "    mlflow.log_metric(\"f1_score\", f1_knn)\n",
    "\n",
    "    mlflow.sklearn.log_model(knn_model, \"model\")\n",
    "    print(\"✅ KNN logged to MLflow.\")"
   ]
  },
  {
   "cell_type": "code",
   "execution_count": 6,
   "id": "399cbac6",
   "metadata": {},
   "outputs": [
    {
     "name": "stdout",
     "output_type": "stream",
     "text": [
      "\n",
      "Model Performance Comparison:\n",
      "Logistic Regression - Accuracy: 0.75, F1: 0.65\n",
      "RandomForest - Accuracy: 0.72, F1: 0.61\n",
      "KNN - Accuracy: 0.66, F1: 0.55\n"
     ]
    }
   ],
   "source": [
    "print(\"\\nModel Performance Comparison:\")\n",
    "print(f\"Logistic Regression - Accuracy: {acc:.2f}, F1: {f1:.2f}\")\n",
    "print(f\"RandomForest - Accuracy: {acc_rf:.2f}, F1: {f1_rf:.2f}\")\n",
    "print(f\"KNN - Accuracy: {acc_knn:.2f}, F1: {f1_knn:.2f}\")\n"
   ]
  },
  {
   "cell_type": "code",
   "execution_count": 7,
   "id": "7581da89",
   "metadata": {},
   "outputs": [
    {
     "name": "stderr",
     "output_type": "stream",
     "text": [
      "c:\\Users\\aysuk\\AppData\\Local\\Programs\\Python\\Python311\\Lib\\site-packages\\sklearn\\linear_model\\_logistic.py:465: ConvergenceWarning: lbfgs failed to converge (status=1):\n",
      "STOP: TOTAL NO. of ITERATIONS REACHED LIMIT.\n",
      "\n",
      "Increase the number of iterations (max_iter) or scale the data as shown in:\n",
      "    https://scikit-learn.org/stable/modules/preprocessing.html\n",
      "Please also refer to the documentation for alternative solver options:\n",
      "    https://scikit-learn.org/stable/modules/linear_model.html#logistic-regression\n",
      "  n_iter_i = _check_optimize_result(\n",
      "2025/05/08 01:32:29 WARNING mlflow.models.model: Model logged without a signature and input example. Please set `input_example` parameter when logging the model to auto infer the model signature.\n"
     ]
    },
    {
     "name": "stdout",
     "output_type": "stream",
     "text": [
      "Run ID: f3a5bdd1596a4ce2b09e3626cdc5cfeb\n"
     ]
    }
   ],
   "source": [
    "with mlflow.start_run() as run:\n",
    "    model = LogisticRegression()\n",
    "    model.fit(X_train, y_train)\n",
    "    mlflow.sklearn.log_model(model, \"model\")  # Bu satır önemli!\n",
    "    print(\"Run ID:\", run.info.run_id)\n"
   ]
  }
 ],
 "metadata": {
  "kernelspec": {
   "display_name": "Python 3",
   "language": "python",
   "name": "python3"
  },
  "language_info": {
   "codemirror_mode": {
    "name": "ipython",
    "version": 3
   },
   "file_extension": ".py",
   "mimetype": "text/x-python",
   "name": "python",
   "nbconvert_exporter": "python",
   "pygments_lexer": "ipython3",
   "version": "3.11.3"
  }
 },
 "nbformat": 4,
 "nbformat_minor": 5
}
