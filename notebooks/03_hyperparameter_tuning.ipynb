{
 "cells": [
  {
   "cell_type": "code",
   "execution_count": 11,
   "id": "8d0f221c",
   "metadata": {},
   "outputs": [],
   "source": [
    "# Core\n",
    "import pandas as pd\n",
    "import numpy as npa\n",
    "\n",
    "# ML & Metrics\n",
    "from sklearn.model_selection import train_test_split\n",
    "from sklearn.linear_model import LogisticRegression\n",
    "from sklearn.metrics import accuracy_score, precision_score, recall_score, f1_score\n",
    "from sklearn.model_selection import cross_val_score\n",
    "from hyperopt import fmin, tpe, hp, Trials, STATUS_OK\n",
    "\n",
    "# MLflow\n",
    "import mlflow\n",
    "import mlflow.sklearn\n"
   ]
  },
  {
   "cell_type": "code",
   "execution_count": 12,
   "id": "abe7bc74",
   "metadata": {},
   "outputs": [],
   "source": [
    "# Load the preprocessed dataset\n",
    "df = pd.read_csv(\"../data/diabetes.csv\")\n",
    "\n",
    "# Define features and target\n",
    "X = df.drop(\"Outcome\", axis=1)\n",
    "y = df[\"Outcome\"]\n",
    "\n",
    "# Train/test split\n",
    "X_train, X_test, y_train, y_test = train_test_split(\n",
    "    X, y, test_size=0.2, random_state=42\n",
    ")\n"
   ]
  },
  {
   "cell_type": "code",
   "execution_count": 13,
   "id": "8e73e0ae",
   "metadata": {},
   "outputs": [
    {
     "name": "stderr",
     "output_type": "stream",
     "text": [
      "2025/04/23 01:17:48 WARNING mlflow.models.model: Model logged without a signature and input example. Please set `input_example` parameter when logging the model to auto infer the model signature.\n"
     ]
    },
    {
     "name": "stdout",
     "output_type": "stream",
     "text": [
      "✔️ Run logged with C=0.1, solver=liblinear\n"
     ]
    },
    {
     "name": "stderr",
     "output_type": "stream",
     "text": [
      "2025/04/23 01:17:55 WARNING mlflow.models.model: Model logged without a signature and input example. Please set `input_example` parameter when logging the model to auto infer the model signature.\n"
     ]
    },
    {
     "name": "stdout",
     "output_type": "stream",
     "text": [
      "✔️ Run logged with C=0.1, solver=lbfgs\n"
     ]
    },
    {
     "name": "stderr",
     "output_type": "stream",
     "text": [
      "2025/04/23 01:18:00 WARNING mlflow.models.model: Model logged without a signature and input example. Please set `input_example` parameter when logging the model to auto infer the model signature.\n"
     ]
    },
    {
     "name": "stdout",
     "output_type": "stream",
     "text": [
      "✔️ Run logged with C=1.0, solver=liblinear\n"
     ]
    },
    {
     "name": "stderr",
     "output_type": "stream",
     "text": [
      "2025/04/23 01:18:07 WARNING mlflow.models.model: Model logged without a signature and input example. Please set `input_example` parameter when logging the model to auto infer the model signature.\n"
     ]
    },
    {
     "name": "stdout",
     "output_type": "stream",
     "text": [
      "✔️ Run logged with C=1.0, solver=lbfgs\n"
     ]
    },
    {
     "name": "stderr",
     "output_type": "stream",
     "text": [
      "2025/04/23 01:18:13 WARNING mlflow.models.model: Model logged without a signature and input example. Please set `input_example` parameter when logging the model to auto infer the model signature.\n"
     ]
    },
    {
     "name": "stdout",
     "output_type": "stream",
     "text": [
      "✔️ Run logged with C=10.0, solver=liblinear\n"
     ]
    },
    {
     "name": "stderr",
     "output_type": "stream",
     "text": [
      "2025/04/23 01:18:18 WARNING mlflow.models.model: Model logged without a signature and input example. Please set `input_example` parameter when logging the model to auto infer the model signature.\n"
     ]
    },
    {
     "name": "stdout",
     "output_type": "stream",
     "text": [
      "✔️ Run logged with C=10.0, solver=lbfgs\n"
     ]
    }
   ],
   "source": [
    "from itertools import product\n",
    "\n",
    "# Define hyperparameter values to try\n",
    "C_values = [0.1, 1.0, 10.0]\n",
    "solvers = ['liblinear', 'lbfgs']\n",
    "\n",
    "# Loop over all combinations\n",
    "for C, solver in product(C_values, solvers):\n",
    "    with mlflow.start_run():\n",
    "        model = LogisticRegression(C=C, solver=solver, max_iter=1000)\n",
    "        model.fit(X_train, y_train)\n",
    "        y_pred = model.predict(X_test)\n",
    "\n",
    "        acc = accuracy_score(y_test, y_pred)\n",
    "        prec = precision_score(y_test, y_pred)\n",
    "        rec = recall_score(y_test, y_pred)\n",
    "        f1 = f1_score(y_test, y_pred)\n",
    "\n",
    "        # Log parameters and metrics\n",
    "        mlflow.log_param(\"C\", C)\n",
    "        mlflow.log_param(\"solver\", solver)\n",
    "        mlflow.log_metric(\"accuracy\", acc)\n",
    "        mlflow.log_metric(\"precision\", prec)\n",
    "        mlflow.log_metric(\"recall\", rec)\n",
    "        mlflow.log_metric(\"f1_score\", f1)\n",
    "\n",
    "        # Log the model\n",
    "        mlflow.sklearn.log_model(model, \"model\")\n",
    "\n",
    "        print(f\"✔️ Run logged with C={C}, solver={solver}\")\n"
   ]
  },
  {
   "cell_type": "code",
   "execution_count": 14,
   "id": "b7368b60",
   "metadata": {},
   "outputs": [
    {
     "name": "stdout",
     "output_type": "stream",
     "text": [
      "✅ Best model: C=10.0 with accuracy=0.7655\n"
     ]
    }
   ],
   "source": [
    "# Define the list of hyperparameter values to test\n",
    "c_values = [0.01, 0.1, 1.0, 10.0]\n",
    "\n",
    "# Track results\n",
    "best_score = 0\n",
    "best_c = None\n",
    "\n",
    "for c in c_values:\n",
    "    with mlflow.start_run(run_name=f\"logreg_C={c}\"):\n",
    "        # Train model with given C\n",
    "        model = LogisticRegression(C=c, solver='liblinear', max_iter=1000)\n",
    "        score = cross_val_score(model, X_train, y_train, cv=5, scoring='accuracy').mean()\n",
    "\n",
    "        # Log params and metrics\n",
    "        mlflow.log_param(\"C\", c)\n",
    "        mlflow.log_metric(\"cv_accuracy\", score)\n",
    "\n",
    "        if score > best_score:\n",
    "            best_score = score\n",
    "            best_c = c\n",
    "\n",
    "print(f\"✅ Best model: C={best_c} with accuracy={best_score:.4f}\")\n"
   ]
  },
  {
   "cell_type": "code",
   "execution_count": 15,
   "id": "e53307a7",
   "metadata": {},
   "outputs": [
    {
     "name": "stdout",
     "output_type": "stream",
     "text": [
      "100%|██████████| 20/20 [00:02<00:00,  7.90trial/s, best loss: -0.7703851792616286]\n",
      "✅ Best hyperparameter from Hyperopt: {'C': 5.5581972010066885}\n"
     ]
    }
   ],
   "source": [
    "# Define search space\n",
    "search_space = {\n",
    "    'C': hp.uniform('C', 0.01, 10)\n",
    "}\n",
    "\n",
    "# Define objective function\n",
    "def objective(params):\n",
    "    with mlflow.start_run(nested=True):\n",
    "        model = LogisticRegression(C=params['C'], solver='liblinear', max_iter=1000)\n",
    "        score = cross_val_score(model, X_train, y_train, cv=5, scoring='accuracy').mean()\n",
    "\n",
    "        # Log params and metrics to MLflow\n",
    "        mlflow.log_param(\"C\", params['C'])\n",
    "        mlflow.log_metric(\"cv_accuracy\", score)\n",
    "\n",
    "        return {'loss': -score, 'status': STATUS_OK}\n",
    "\n",
    "# Run Hyperopt optimization\n",
    "trials = Trials()\n",
    "best = fmin(fn=objective, space=search_space, algo=tpe.suggest, max_evals=20, trials=trials)\n",
    "\n",
    "print(\"✅ Best hyperparameter from Hyperopt:\", best)\n"
   ]
  },
  {
   "cell_type": "code",
   "execution_count": 16,
   "id": "6a41f238",
   "metadata": {},
   "outputs": [],
   "source": [
    "# Extract results from Hyperopt trials\n",
    "results = []\n",
    "for i, trial in enumerate(trials.trials):\n",
    "    result = {\n",
    "        \"Trial\": i + 1,\n",
    "        \"C\": trial[\"result\"][\"params\"][\"C\"] if \"params\" in trial[\"result\"] else trial[\"misc\"][\"vals\"][\"C\"][0],\n",
    "        \"CV Accuracy\": -trial[\"result\"][\"loss\"]\n",
    "    }\n",
    "    results.append(result)\n",
    "\n",
    "df_trials = pd.DataFrame(results)\n",
    "\n",
    "# Highlight best result\n",
    "best_idx = df_trials[\"CV Accuracy\"].idxmax()\n",
    "df_trials.loc[best_idx, \"Best\"] = \"✅\"\n"
   ]
  },
  {
   "cell_type": "code",
   "execution_count": 17,
   "id": "c53711fe",
   "metadata": {},
   "outputs": [
    {
     "data": {
      "text/html": [
       "<div>\n",
       "<style scoped>\n",
       "    .dataframe tbody tr th:only-of-type {\n",
       "        vertical-align: middle;\n",
       "    }\n",
       "\n",
       "    .dataframe tbody tr th {\n",
       "        vertical-align: top;\n",
       "    }\n",
       "\n",
       "    .dataframe thead th {\n",
       "        text-align: right;\n",
       "    }\n",
       "</style>\n",
       "<table border=\"1\" class=\"dataframe\">\n",
       "  <thead>\n",
       "    <tr style=\"text-align: right;\">\n",
       "      <th></th>\n",
       "      <th>Trial</th>\n",
       "      <th>C</th>\n",
       "      <th>CV Accuracy</th>\n",
       "      <th>Best</th>\n",
       "    </tr>\n",
       "  </thead>\n",
       "  <tbody>\n",
       "    <tr>\n",
       "      <th>0</th>\n",
       "      <td>1</td>\n",
       "      <td>0.875504</td>\n",
       "      <td>0.757350</td>\n",
       "      <td>NaN</td>\n",
       "    </tr>\n",
       "    <tr>\n",
       "      <th>1</th>\n",
       "      <td>2</td>\n",
       "      <td>2.746277</td>\n",
       "      <td>0.768759</td>\n",
       "      <td>NaN</td>\n",
       "    </tr>\n",
       "    <tr>\n",
       "      <th>2</th>\n",
       "      <td>3</td>\n",
       "      <td>9.360221</td>\n",
       "      <td>0.765520</td>\n",
       "      <td>NaN</td>\n",
       "    </tr>\n",
       "    <tr>\n",
       "      <th>3</th>\n",
       "      <td>4</td>\n",
       "      <td>2.881004</td>\n",
       "      <td>0.768759</td>\n",
       "      <td>NaN</td>\n",
       "    </tr>\n",
       "    <tr>\n",
       "      <th>4</th>\n",
       "      <td>5</td>\n",
       "      <td>5.558197</td>\n",
       "      <td>0.770385</td>\n",
       "      <td>✅</td>\n",
       "    </tr>\n",
       "    <tr>\n",
       "      <th>5</th>\n",
       "      <td>6</td>\n",
       "      <td>0.409257</td>\n",
       "      <td>0.737838</td>\n",
       "      <td>NaN</td>\n",
       "    </tr>\n",
       "    <tr>\n",
       "      <th>6</th>\n",
       "      <td>7</td>\n",
       "      <td>2.932872</td>\n",
       "      <td>0.768759</td>\n",
       "      <td>NaN</td>\n",
       "    </tr>\n",
       "    <tr>\n",
       "      <th>7</th>\n",
       "      <td>8</td>\n",
       "      <td>4.988711</td>\n",
       "      <td>0.768746</td>\n",
       "      <td>NaN</td>\n",
       "    </tr>\n",
       "    <tr>\n",
       "      <th>8</th>\n",
       "      <td>9</td>\n",
       "      <td>6.036758</td>\n",
       "      <td>0.765507</td>\n",
       "      <td>NaN</td>\n",
       "    </tr>\n",
       "    <tr>\n",
       "      <th>9</th>\n",
       "      <td>10</td>\n",
       "      <td>7.237987</td>\n",
       "      <td>0.767146</td>\n",
       "      <td>NaN</td>\n",
       "    </tr>\n",
       "    <tr>\n",
       "      <th>10</th>\n",
       "      <td>11</td>\n",
       "      <td>1.370070</td>\n",
       "      <td>0.758990</td>\n",
       "      <td>NaN</td>\n",
       "    </tr>\n",
       "    <tr>\n",
       "      <th>11</th>\n",
       "      <td>12</td>\n",
       "      <td>6.227337</td>\n",
       "      <td>0.765507</td>\n",
       "      <td>NaN</td>\n",
       "    </tr>\n",
       "    <tr>\n",
       "      <th>12</th>\n",
       "      <td>13</td>\n",
       "      <td>1.959023</td>\n",
       "      <td>0.765507</td>\n",
       "      <td>NaN</td>\n",
       "    </tr>\n",
       "    <tr>\n",
       "      <th>13</th>\n",
       "      <td>14</td>\n",
       "      <td>7.589572</td>\n",
       "      <td>0.767146</td>\n",
       "      <td>NaN</td>\n",
       "    </tr>\n",
       "    <tr>\n",
       "      <th>14</th>\n",
       "      <td>15</td>\n",
       "      <td>0.316389</td>\n",
       "      <td>0.734586</td>\n",
       "      <td>NaN</td>\n",
       "    </tr>\n",
       "    <tr>\n",
       "      <th>15</th>\n",
       "      <td>16</td>\n",
       "      <td>8.285637</td>\n",
       "      <td>0.767146</td>\n",
       "      <td>NaN</td>\n",
       "    </tr>\n",
       "    <tr>\n",
       "      <th>16</th>\n",
       "      <td>17</td>\n",
       "      <td>9.440802</td>\n",
       "      <td>0.765520</td>\n",
       "      <td>NaN</td>\n",
       "    </tr>\n",
       "    <tr>\n",
       "      <th>17</th>\n",
       "      <td>18</td>\n",
       "      <td>4.154996</td>\n",
       "      <td>0.768746</td>\n",
       "      <td>NaN</td>\n",
       "    </tr>\n",
       "    <tr>\n",
       "      <th>18</th>\n",
       "      <td>19</td>\n",
       "      <td>2.419868</td>\n",
       "      <td>0.768759</td>\n",
       "      <td>NaN</td>\n",
       "    </tr>\n",
       "    <tr>\n",
       "      <th>19</th>\n",
       "      <td>20</td>\n",
       "      <td>5.028583</td>\n",
       "      <td>0.768746</td>\n",
       "      <td>NaN</td>\n",
       "    </tr>\n",
       "  </tbody>\n",
       "</table>\n",
       "</div>"
      ],
      "text/plain": [
       "    Trial         C  CV Accuracy Best\n",
       "0       1  0.875504     0.757350  NaN\n",
       "1       2  2.746277     0.768759  NaN\n",
       "2       3  9.360221     0.765520  NaN\n",
       "3       4  2.881004     0.768759  NaN\n",
       "4       5  5.558197     0.770385    ✅\n",
       "5       6  0.409257     0.737838  NaN\n",
       "6       7  2.932872     0.768759  NaN\n",
       "7       8  4.988711     0.768746  NaN\n",
       "8       9  6.036758     0.765507  NaN\n",
       "9      10  7.237987     0.767146  NaN\n",
       "10     11  1.370070     0.758990  NaN\n",
       "11     12  6.227337     0.765507  NaN\n",
       "12     13  1.959023     0.765507  NaN\n",
       "13     14  7.589572     0.767146  NaN\n",
       "14     15  0.316389     0.734586  NaN\n",
       "15     16  8.285637     0.767146  NaN\n",
       "16     17  9.440802     0.765520  NaN\n",
       "17     18  4.154996     0.768746  NaN\n",
       "18     19  2.419868     0.768759  NaN\n",
       "19     20  5.028583     0.768746  NaN"
      ]
     },
     "execution_count": 17,
     "metadata": {},
     "output_type": "execute_result"
    }
   ],
   "source": [
    "df_trials"
   ]
  },
  {
   "cell_type": "code",
   "execution_count": 18,
   "id": "3412fce7",
   "metadata": {},
   "outputs": [
    {
     "data": {
      "image/png": "[encoded data removed]",
      "text/plain": [
       "<Figure size 640x480 with 1 Axes>"
      ]
     },
     "metadata": {},
     "output_type": "display_data"
    }
   ],
   "source": [
    "import matplotlib.pyplot as plt\n",
    "\n",
    "plt.plot(df_trials[\"Trial\"], df_trials[\"CV Accuracy\"], marker='o')\n",
    "plt.title(\"Hyperopt CV Accuracy over Trials\")\n",
    "plt.xlabel(\"Trial\")\n",
    "plt.ylabel(\"CV Accuracy\")\n",
    "plt.grid(True)\n",
    "plt.show()"
   ]
  },
  {
   "cell_type": "markdown",
   "id": "db4b9575",
   "metadata": {},
   "source": [
    "Although we implemented a basic hyperparameter search using Hyperopt to explore different values for the regularization parameter C, we observed that the optimal C value varied across different runs due to its stochastic nature.\n",
    "\n",
    "To ensure reproducibility and consistency for deployment and presentation purposes, we decided to fix C = 10.0 — the best-performing value obtained from initial tuning sessions — instead of dynamically selecting it in every run.\n",
    "\n",
    "This approach simplifies model versioning and avoids discrepancies between experiments and production environments."
   ]
  }
 ],
 "metadata": {
  "kernelspec": {
   "display_name": "Python 3",
   "language": "python",
   "name": "python3"
  },
  "language_info": {
   "codemirror_mode": {
    "name": "ipython",
    "version": 3
   },
   "file_extension": ".py",
   "mimetype": "text/x-python",
   "name": "python",
   "nbconvert_exporter": "python",
   "pygments_lexer": "ipython3",
   "version": "3.11.3"
  }
 },
 "nbformat": 4,
 "nbformat_minor": 5
}
