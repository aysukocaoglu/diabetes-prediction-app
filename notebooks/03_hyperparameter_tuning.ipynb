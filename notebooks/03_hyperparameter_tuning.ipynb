{
 "cells": [
  {
   "cell_type": "code",
   "execution_count": 10,
   "id": "8d0f221c",
   "metadata": {},
   "outputs": [],
   "source": [
    "# Core\n",
    "import pandas as pd\n",
    "import numpy as npa\n",
    "\n",
    "# ML & Metrics\n",
    "from sklearn.model_selection import train_test_split\n",
    "from sklearn.linear_model import LogisticRegression\n",
    "from sklearn.metrics import accuracy_score, precision_score, recall_score, f1_score\n",
    "from sklearn.model_selection import cross_val_score\n",
    "from hyperopt import fmin, tpe, hp, Trials, STATUS_OK\n",
    "\n",
    "# MLflow\n",
    "import mlflow\n",
    "import mlflow.sklearn\n"
   ]
  },
  {
   "cell_type": "code",
   "execution_count": 11,
   "id": "abe7bc74",
   "metadata": {},
   "outputs": [],
   "source": [
    "# Load the preprocessed dataset\n",
    "df = pd.read_csv(\"../data/diabetes.csv\")\n",
    "\n",
    "# Define features and target\n",
    "X = df.drop(\"Outcome\", axis=1)\n",
    "y = df[\"Outcome\"]\n",
    "\n",
    "# Train/test split\n",
    "X_train, X_test, y_train, y_test = train_test_split(\n",
    "    X, y, test_size=0.2, random_state=42\n",
    ")\n"
   ]
  },
  {
   "cell_type": "code",
   "execution_count": 12,
   "id": "8e73e0ae",
   "metadata": {},
   "outputs": [
    {
     "name": "stderr",
     "output_type": "stream",
     "text": [
      "2025/05/08 02:25:03 WARNING mlflow.models.model: Model logged without a signature and input example. Please set `input_example` parameter when logging the model to auto infer the model signature.\n"
     ]
    },
    {
     "name": "stdout",
     "output_type": "stream",
     "text": [
      "✔️ Run logged with C=0.1, solver=liblinear\n"
     ]
    },
    {
     "name": "stderr",
     "output_type": "stream",
     "text": [
      "2025/05/08 02:25:10 WARNING mlflow.models.model: Model logged without a signature and input example. Please set `input_example` parameter when logging the model to auto infer the model signature.\n"
     ]
    },
    {
     "name": "stdout",
     "output_type": "stream",
     "text": [
      "✔️ Run logged with C=0.1, solver=lbfgs\n"
     ]
    },
    {
     "name": "stderr",
     "output_type": "stream",
     "text": [
      "2025/05/08 02:25:15 WARNING mlflow.models.model: Model logged without a signature and input example. Please set `input_example` parameter when logging the model to auto infer the model signature.\n"
     ]
    },
    {
     "name": "stdout",
     "output_type": "stream",
     "text": [
      "✔️ Run logged with C=1.0, solver=liblinear\n"
     ]
    },
    {
     "name": "stderr",
     "output_type": "stream",
     "text": [
      "2025/05/08 02:25:21 WARNING mlflow.models.model: Model logged without a signature and input example. Please set `input_example` parameter when logging the model to auto infer the model signature.\n"
     ]
    },
    {
     "name": "stdout",
     "output_type": "stream",
     "text": [
      "✔️ Run logged with C=1.0, solver=lbfgs\n"
     ]
    },
    {
     "name": "stderr",
     "output_type": "stream",
     "text": [
      "2025/05/08 02:25:26 WARNING mlflow.models.model: Model logged without a signature and input example. Please set `input_example` parameter when logging the model to auto infer the model signature.\n"
     ]
    },
    {
     "name": "stdout",
     "output_type": "stream",
     "text": [
      "✔️ Run logged with C=10.0, solver=liblinear\n"
     ]
    },
    {
     "name": "stderr",
     "output_type": "stream",
     "text": [
      "2025/05/08 02:25:31 WARNING mlflow.models.model: Model logged without a signature and input example. Please set `input_example` parameter when logging the model to auto infer the model signature.\n"
     ]
    },
    {
     "name": "stdout",
     "output_type": "stream",
     "text": [
      "✔️ Run logged with C=10.0, solver=lbfgs\n"
     ]
    }
   ],
   "source": [
    "from itertools import product\n",
    "\n",
    "# Define hyperparameter values to try\n",
    "C_values = [0.1, 1.0, 10.0]\n",
    "solvers = ['liblinear', 'lbfgs']\n",
    "\n",
    "# Loop over all combinations\n",
    "for C, solver in product(C_values, solvers):\n",
    "    with mlflow.start_run():\n",
    "        model = LogisticRegression(C=C, solver=solver, max_iter=1000)\n",
    "        model.fit(X_train, y_train)\n",
    "        y_pred = model.predict(X_test)\n",
    "\n",
    "        acc = accuracy_score(y_test, y_pred)\n",
    "        prec = precision_score(y_test, y_pred)\n",
    "        rec = recall_score(y_test, y_pred)\n",
    "        f1 = f1_score(y_test, y_pred)\n",
    "\n",
    "        # Log parameters and metrics\n",
    "        mlflow.log_param(\"C\", C)\n",
    "        mlflow.log_param(\"solver\", solver)\n",
    "        mlflow.log_metric(\"accuracy\", acc)\n",
    "        mlflow.log_metric(\"precision\", prec)\n",
    "        mlflow.log_metric(\"recall\", rec)\n",
    "        mlflow.log_metric(\"f1_score\", f1)\n",
    "\n",
    "        # Log the model\n",
    "        mlflow.sklearn.log_model(model, \"model\")\n",
    "\n",
    "        print(f\"✔️ Run logged with C={C}, solver={solver}\")\n"
   ]
  },
  {
   "cell_type": "code",
   "execution_count": 13,
   "id": "b7368b60",
   "metadata": {},
   "outputs": [
    {
     "name": "stdout",
     "output_type": "stream",
     "text": [
      "✅ Best model: C=10.0 with accuracy=0.7655\n"
     ]
    }
   ],
   "source": [
    "# Define the list of hyperparameter values to test\n",
    "c_values = [0.01, 0.1, 1.0, 10.0]\n",
    "\n",
    "# Track results\n",
    "best_score = 0\n",
    "best_c = None\n",
    "\n",
    "for c in c_values:\n",
    "    with mlflow.start_run(run_name=f\"logreg_C={c}\"):\n",
    "        # Train model with given C\n",
    "        model = LogisticRegression(C=c, solver='liblinear', max_iter=1000)\n",
    "        score = cross_val_score(model, X_train, y_train, cv=5, scoring='accuracy').mean()\n",
    "\n",
    "        # Log params and metrics\n",
    "        mlflow.log_param(\"C\", c)\n",
    "        mlflow.log_metric(\"cv_accuracy\", score)\n",
    "\n",
    "        if score > best_score:\n",
    "            best_score = score\n",
    "            best_c = c\n",
    "\n",
    "print(f\"✅ Best model: C={best_c} with accuracy={best_score:.4f}\")\n"
   ]
  },
  {
   "cell_type": "code",
   "execution_count": 14,
   "id": "e53307a7",
   "metadata": {},
   "outputs": [
    {
     "name": "stdout",
     "output_type": "stream",
     "text": [
      "100%|██████████| 20/20 [00:02<00:00,  7.39trial/s, best loss: -0.7727272727272727]\n",
      "✅ Best hyperparameter from Hyperopt: {'C': 0.3073767172930477}\n"
     ]
    }
   ],
   "source": [
    "# Define search space\n",
    "search_space = {\n",
    "    'C': hp.uniform('C', 0.01, 10)\n",
    "}\n",
    "\n",
    "# Define objective function\n",
    "def objective(params):\n",
    "    with mlflow.start_run(nested=True):\n",
    "        model = LogisticRegression(C=params['C'], solver='liblinear', max_iter=1000)\n",
    "        model.fit(X_train, y_train)\n",
    "        y_pred = model.predict(X_test)\n",
    "\n",
    "        acc = accuracy_score(y_test, y_pred)\n",
    "        prec = precision_score(y_test, y_pred)\n",
    "        rec = recall_score(y_test, y_pred)\n",
    "        f1 = f1_score(y_test, y_pred)\n",
    "\n",
    "        # Log all metrics\n",
    "        mlflow.log_param(\"C\", params['C'])\n",
    "        mlflow.log_metric(\"accuracy\", acc)\n",
    "        mlflow.log_metric(\"precision\", prec)\n",
    "        mlflow.log_metric(\"recall\", rec)\n",
    "        mlflow.log_metric(\"f1_score\", f1)\n",
    "\n",
    "        return {'loss': -acc, 'status': STATUS_OK}\n",
    "\n",
    "\n",
    "\n",
    "# Run Hyperopt optimization\n",
    "trials = Trials()\n",
    "best = fmin(fn=objective, space=search_space, algo=tpe.suggest, max_evals=20, trials=trials)\n",
    "\n",
    "print(\"✅ Best hyperparameter from Hyperopt:\", best)\n"
   ]
  },
  {
   "cell_type": "code",
   "execution_count": 15,
   "id": "6a41f238",
   "metadata": {},
   "outputs": [],
   "source": [
    "# Extract results from Hyperopt trials\n",
    "results = []\n",
    "for i, trial in enumerate(trials.trials):\n",
    "    result = {\n",
    "        \"Trial\": i + 1,\n",
    "        \"C\": trial[\"result\"][\"params\"][\"C\"] if \"params\" in trial[\"result\"] else trial[\"misc\"][\"vals\"][\"C\"][0],\n",
    "        \"CV Accuracy\": -trial[\"result\"][\"loss\"]\n",
    "    }\n",
    "    results.append(result)\n",
    "\n",
    "df_trials = pd.DataFrame(results)\n",
    "\n",
    "# Highlight best result\n",
    "best_idx = df_trials[\"CV Accuracy\"].idxmax()\n",
    "df_trials.loc[best_idx, \"Best\"] = \"✅\"\n"
   ]
  },
  {
   "cell_type": "code",
   "execution_count": 16,
   "id": "c53711fe",
   "metadata": {},
   "outputs": [
    {
     "data": {
      "text/html": [
       "<div>\n",
       "<style scoped>\n",
       "    .dataframe tbody tr th:only-of-type {\n",
       "        vertical-align: middle;\n",
       "    }\n",
       "\n",
       "    .dataframe tbody tr th {\n",
       "        vertical-align: top;\n",
       "    }\n",
       "\n",
       "    .dataframe thead th {\n",
       "        text-align: right;\n",
       "    }\n",
       "</style>\n",
       "<table border=\"1\" class=\"dataframe\">\n",
       "  <thead>\n",
       "    <tr style=\"text-align: right;\">\n",
       "      <th></th>\n",
       "      <th>Trial</th>\n",
       "      <th>C</th>\n",
       "      <th>CV Accuracy</th>\n",
       "      <th>Best</th>\n",
       "    </tr>\n",
       "  </thead>\n",
       "  <tbody>\n",
       "    <tr>\n",
       "      <th>0</th>\n",
       "      <td>1</td>\n",
       "      <td>2.453587</td>\n",
       "      <td>0.753247</td>\n",
       "      <td>NaN</td>\n",
       "    </tr>\n",
       "    <tr>\n",
       "      <th>1</th>\n",
       "      <td>2</td>\n",
       "      <td>6.334792</td>\n",
       "      <td>0.759740</td>\n",
       "      <td>NaN</td>\n",
       "    </tr>\n",
       "    <tr>\n",
       "      <th>2</th>\n",
       "      <td>3</td>\n",
       "      <td>3.568575</td>\n",
       "      <td>0.753247</td>\n",
       "      <td>NaN</td>\n",
       "    </tr>\n",
       "    <tr>\n",
       "      <th>3</th>\n",
       "      <td>4</td>\n",
       "      <td>3.579842</td>\n",
       "      <td>0.753247</td>\n",
       "      <td>NaN</td>\n",
       "    </tr>\n",
       "    <tr>\n",
       "      <th>4</th>\n",
       "      <td>5</td>\n",
       "      <td>4.460510</td>\n",
       "      <td>0.759740</td>\n",
       "      <td>NaN</td>\n",
       "    </tr>\n",
       "    <tr>\n",
       "      <th>5</th>\n",
       "      <td>6</td>\n",
       "      <td>8.638144</td>\n",
       "      <td>0.759740</td>\n",
       "      <td>NaN</td>\n",
       "    </tr>\n",
       "    <tr>\n",
       "      <th>6</th>\n",
       "      <td>7</td>\n",
       "      <td>0.967104</td>\n",
       "      <td>0.759740</td>\n",
       "      <td>NaN</td>\n",
       "    </tr>\n",
       "    <tr>\n",
       "      <th>7</th>\n",
       "      <td>8</td>\n",
       "      <td>3.945964</td>\n",
       "      <td>0.759740</td>\n",
       "      <td>NaN</td>\n",
       "    </tr>\n",
       "    <tr>\n",
       "      <th>8</th>\n",
       "      <td>9</td>\n",
       "      <td>8.789716</td>\n",
       "      <td>0.759740</td>\n",
       "      <td>NaN</td>\n",
       "    </tr>\n",
       "    <tr>\n",
       "      <th>9</th>\n",
       "      <td>10</td>\n",
       "      <td>8.606376</td>\n",
       "      <td>0.759740</td>\n",
       "      <td>NaN</td>\n",
       "    </tr>\n",
       "    <tr>\n",
       "      <th>10</th>\n",
       "      <td>11</td>\n",
       "      <td>8.983561</td>\n",
       "      <td>0.759740</td>\n",
       "      <td>NaN</td>\n",
       "    </tr>\n",
       "    <tr>\n",
       "      <th>11</th>\n",
       "      <td>12</td>\n",
       "      <td>8.268606</td>\n",
       "      <td>0.759740</td>\n",
       "      <td>NaN</td>\n",
       "    </tr>\n",
       "    <tr>\n",
       "      <th>12</th>\n",
       "      <td>13</td>\n",
       "      <td>0.307377</td>\n",
       "      <td>0.772727</td>\n",
       "      <td>✅</td>\n",
       "    </tr>\n",
       "    <tr>\n",
       "      <th>13</th>\n",
       "      <td>14</td>\n",
       "      <td>5.923621</td>\n",
       "      <td>0.759740</td>\n",
       "      <td>NaN</td>\n",
       "    </tr>\n",
       "    <tr>\n",
       "      <th>14</th>\n",
       "      <td>15</td>\n",
       "      <td>5.668680</td>\n",
       "      <td>0.759740</td>\n",
       "      <td>NaN</td>\n",
       "    </tr>\n",
       "    <tr>\n",
       "      <th>15</th>\n",
       "      <td>16</td>\n",
       "      <td>5.523111</td>\n",
       "      <td>0.759740</td>\n",
       "      <td>NaN</td>\n",
       "    </tr>\n",
       "    <tr>\n",
       "      <th>16</th>\n",
       "      <td>17</td>\n",
       "      <td>0.698950</td>\n",
       "      <td>0.766234</td>\n",
       "      <td>NaN</td>\n",
       "    </tr>\n",
       "    <tr>\n",
       "      <th>17</th>\n",
       "      <td>18</td>\n",
       "      <td>9.939333</td>\n",
       "      <td>0.759740</td>\n",
       "      <td>NaN</td>\n",
       "    </tr>\n",
       "    <tr>\n",
       "      <th>18</th>\n",
       "      <td>19</td>\n",
       "      <td>8.448623</td>\n",
       "      <td>0.759740</td>\n",
       "      <td>NaN</td>\n",
       "    </tr>\n",
       "    <tr>\n",
       "      <th>19</th>\n",
       "      <td>20</td>\n",
       "      <td>8.395506</td>\n",
       "      <td>0.759740</td>\n",
       "      <td>NaN</td>\n",
       "    </tr>\n",
       "  </tbody>\n",
       "</table>\n",
       "</div>"
      ],
      "text/plain": [
       "    Trial         C  CV Accuracy Best\n",
       "0       1  2.453587     0.753247  NaN\n",
       "1       2  6.334792     0.759740  NaN\n",
       "2       3  3.568575     0.753247  NaN\n",
       "3       4  3.579842     0.753247  NaN\n",
       "4       5  4.460510     0.759740  NaN\n",
       "5       6  8.638144     0.759740  NaN\n",
       "6       7  0.967104     0.759740  NaN\n",
       "7       8  3.945964     0.759740  NaN\n",
       "8       9  8.789716     0.759740  NaN\n",
       "9      10  8.606376     0.759740  NaN\n",
       "10     11  8.983561     0.759740  NaN\n",
       "11     12  8.268606     0.759740  NaN\n",
       "12     13  0.307377     0.772727    ✅\n",
       "13     14  5.923621     0.759740  NaN\n",
       "14     15  5.668680     0.759740  NaN\n",
       "15     16  5.523111     0.759740  NaN\n",
       "16     17  0.698950     0.766234  NaN\n",
       "17     18  9.939333     0.759740  NaN\n",
       "18     19  8.448623     0.759740  NaN\n",
       "19     20  8.395506     0.759740  NaN"
      ]
     },
     "execution_count": 16,
     "metadata": {},
     "output_type": "execute_result"
    }
   ],
   "source": [
    "df_trials"
   ]
  },
  {
   "cell_type": "code",
   "execution_count": 17,
   "id": "3412fce7",
   "metadata": {},
   "outputs": [
    {
     "data": {
      "image/png": "[encoded data removed]",
      "text/plain": [
       "<Figure size 640x480 with 1 Axes>"
      ]
     },
     "metadata": {},
     "output_type": "display_data"
    }
   ],
   "source": [
    "import matplotlib.pyplot as plt\n",
    "\n",
    "plt.plot(df_trials[\"Trial\"], df_trials[\"CV Accuracy\"], marker='o')\n",
    "plt.title(\"Hyperopt CV Accuracy over Trials\")\n",
    "plt.xlabel(\"Trial\")\n",
    "plt.ylabel(\"CV Accuracy\")\n",
    "plt.grid(True)\n",
    "plt.show()"
   ]
  },
  {
   "cell_type": "code",
   "execution_count": 18,
   "id": "43ea8f96",
   "metadata": {},
   "outputs": [],
   "source": [
    "with open(\"best_c.txt\", \"w\") as f:\n",
    "    f.write(str(best['C']))"
   ]
  }
 ],
 "metadata": {
  "kernelspec": {
   "display_name": "Python 3",
   "language": "python",
   "name": "python3"
  },
  "language_info": {
   "codemirror_mode": {
    "name": "ipython",
    "version": 3
   },
   "file_extension": ".py",
   "mimetype": "text/x-python",
   "name": "python",
   "nbconvert_exporter": "python",
   "pygments_lexer": "ipython3",
   "version": "3.11.3"
  }
 },
 "nbformat": 4,
 "nbformat_minor": 5
}
