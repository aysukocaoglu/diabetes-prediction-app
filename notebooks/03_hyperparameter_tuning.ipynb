{
 "cells": [
  {
   "cell_type": "markdown",
   "id": "081500ce",
   "metadata": {},
   "source": [
    "# Hyperparameter Tuning with Logistic Regression\n",
    "\n",
    "This notebook explores different values of the regularization parameter C  \n",
    "for Logistic Regression. Each experiment is tracked using MLflow to find  \n",
    "the model with the best cross-validation accuracy."
   ]
  },
  {
   "cell_type": "code",
   "execution_count": 2,
   "id": "8d0f221c",
   "metadata": {},
   "outputs": [],
   "source": [
    "# Core\n",
    "import pandas as pd\n",
    "import numpy as npa\n",
    "\n",
    "# ML & Metrics\n",
    "from sklearn.model_selection import train_test_split\n",
    "from sklearn.linear_model import LogisticRegression\n",
    "from sklearn.metrics import accuracy_score, precision_score, recall_score, f1_score\n",
    "from sklearn.model_selection import cross_val_score\n",
    "from hyperopt import fmin, tpe, hp, Trials, STATUS_OK\n",
    "\n",
    "# MLflow\n",
    "import mlflow\n",
    "import mlflow.sklearn\n"
   ]
  },
  {
   "cell_type": "code",
   "execution_count": 3,
   "id": "abe7bc74",
   "metadata": {},
   "outputs": [],
   "source": [
    "# Load the preprocessed dataset\n",
    "df = pd.read_csv(\"../data/diabetes.csv\")\n",
    "\n",
    "# Define features and target\n",
    "X = df.drop(\"Outcome\", axis=1)\n",
    "y = df[\"Outcome\"]\n",
    "\n",
    "# Train/test split\n",
    "X_train, X_test, y_train, y_test = train_test_split(\n",
    "    X, y, test_size=0.2, random_state=42\n",
    ")\n"
   ]
  },
  {
   "cell_type": "code",
   "execution_count": 4,
   "id": "8e73e0ae",
   "metadata": {},
   "outputs": [
    {
     "name": "stderr",
     "output_type": "stream",
     "text": [
      "2025/04/22 23:56:57 WARNING mlflow.models.model: Model logged without a signature and input example. Please set `input_example` parameter when logging the model to auto infer the model signature.\n"
     ]
    },
    {
     "name": "stdout",
     "output_type": "stream",
     "text": [
      "✔️ Run logged with C=0.1, solver=liblinear\n"
     ]
    },
    {
     "name": "stderr",
     "output_type": "stream",
     "text": [
      "2025/04/22 23:57:03 WARNING mlflow.models.model: Model logged without a signature and input example. Please set `input_example` parameter when logging the model to auto infer the model signature.\n"
     ]
    },
    {
     "name": "stdout",
     "output_type": "stream",
     "text": [
      "✔️ Run logged with C=0.1, solver=lbfgs\n"
     ]
    },
    {
     "name": "stderr",
     "output_type": "stream",
     "text": [
      "2025/04/22 23:57:11 WARNING mlflow.models.model: Model logged without a signature and input example. Please set `input_example` parameter when logging the model to auto infer the model signature.\n"
     ]
    },
    {
     "name": "stdout",
     "output_type": "stream",
     "text": [
      "✔️ Run logged with C=1.0, solver=liblinear\n"
     ]
    },
    {
     "name": "stderr",
     "output_type": "stream",
     "text": [
      "2025/04/22 23:57:17 WARNING mlflow.models.model: Model logged without a signature and input example. Please set `input_example` parameter when logging the model to auto infer the model signature.\n"
     ]
    },
    {
     "name": "stdout",
     "output_type": "stream",
     "text": [
      "✔️ Run logged with C=1.0, solver=lbfgs\n"
     ]
    },
    {
     "name": "stderr",
     "output_type": "stream",
     "text": [
      "2025/04/22 23:57:23 WARNING mlflow.models.model: Model logged without a signature and input example. Please set `input_example` parameter when logging the model to auto infer the model signature.\n"
     ]
    },
    {
     "name": "stdout",
     "output_type": "stream",
     "text": [
      "✔️ Run logged with C=10.0, solver=liblinear\n"
     ]
    },
    {
     "name": "stderr",
     "output_type": "stream",
     "text": [
      "2025/04/22 23:57:29 WARNING mlflow.models.model: Model logged without a signature and input example. Please set `input_example` parameter when logging the model to auto infer the model signature.\n"
     ]
    },
    {
     "name": "stdout",
     "output_type": "stream",
     "text": [
      "✔️ Run logged with C=10.0, solver=lbfgs\n"
     ]
    }
   ],
   "source": [
    "from itertools import product\n",
    "\n",
    "# Define hyperparameter values to try\n",
    "C_values = [0.1, 1.0, 10.0]\n",
    "solvers = ['liblinear', 'lbfgs']\n",
    "\n",
    "# Loop over all combinations\n",
    "for C, solver in product(C_values, solvers):\n",
    "    with mlflow.start_run():\n",
    "        model = LogisticRegression(C=C, solver=solver, max_iter=1000)\n",
    "        model.fit(X_train, y_train)\n",
    "        y_pred = model.predict(X_test)\n",
    "\n",
    "        acc = accuracy_score(y_test, y_pred)\n",
    "        prec = precision_score(y_test, y_pred)\n",
    "        rec = recall_score(y_test, y_pred)\n",
    "        f1 = f1_score(y_test, y_pred)\n",
    "\n",
    "        # Log parameters and metrics\n",
    "        mlflow.log_param(\"C\", C)\n",
    "        mlflow.log_param(\"solver\", solver)\n",
    "        mlflow.log_metric(\"accuracy\", acc)\n",
    "        mlflow.log_metric(\"precision\", prec)\n",
    "        mlflow.log_metric(\"recall\", rec)\n",
    "        mlflow.log_metric(\"f1_score\", f1)\n",
    "\n",
    "        # Log the model\n",
    "        mlflow.sklearn.log_model(model, \"model\")\n",
    "\n",
    "        print(f\"✔️ Run logged with C={C}, solver={solver}\")\n"
   ]
  },
  {
   "cell_type": "markdown",
   "id": "482bd647",
   "metadata": {},
   "source": [
    "After evaluating multiple hyperparameter combinations using MLflow, the best performing Logistic Regression model was obtained with:\n",
    "- **C = 10.0**\n",
    "- **solver = liblinear**\n",
    "\n",
    "This configuration achieved:\n",
    "- **Accuracy**: 75.97%\n",
    "- **F1 Score**: 66.67%\n",
    "\n",
    "Thus, this model was selected as the final version for deployment."
   ]
  },
  {
   "cell_type": "code",
   "execution_count": 5,
   "id": "b7368b60",
   "metadata": {},
   "outputs": [
    {
     "name": "stdout",
     "output_type": "stream",
     "text": [
      "✅ Best model: C=10.0 with accuracy=0.7655\n"
     ]
    }
   ],
   "source": [
    "# Define the list of hyperparameter values to test\n",
    "c_values = [0.01, 0.1, 1.0, 10.0]\n",
    "\n",
    "# Track results\n",
    "best_score = 0\n",
    "best_c = None\n",
    "\n",
    "for c in c_values:\n",
    "    with mlflow.start_run(run_name=f\"logreg_C={c}\"):\n",
    "        # Train model with given C\n",
    "        model = LogisticRegression(C=c, solver='liblinear', max_iter=1000)\n",
    "        score = cross_val_score(model, X_train, y_train, cv=5, scoring='accuracy').mean()\n",
    "\n",
    "        # Log params and metrics\n",
    "        mlflow.log_param(\"C\", c)\n",
    "        mlflow.log_metric(\"cv_accuracy\", score)\n",
    "\n",
    "        if score > best_score:\n",
    "            best_score = score\n",
    "            best_c = c\n",
    "\n",
    "print(f\"✅ Best model: C={best_c} with accuracy={best_score:.4f}\")\n"
   ]
  },
  {
   "cell_type": "code",
   "execution_count": 6,
   "id": "e53307a7",
   "metadata": {},
   "outputs": [
    {
     "name": "stdout",
     "output_type": "stream",
     "text": [
      "100%|██████████| 20/20 [00:03<00:00,  6.13trial/s, best loss: -0.7687591630014661]\n",
      "✅ Best hyperparameter from Hyperopt: {'C': 2.247285247455063}\n"
     ]
    }
   ],
   "source": [
    "# Define search space\n",
    "search_space = {\n",
    "    'C': hp.uniform('C', 0.01, 10)\n",
    "}\n",
    "\n",
    "# Define objective function\n",
    "def objective(params):\n",
    "    with mlflow.start_run(nested=True):\n",
    "        model = LogisticRegression(C=params['C'], solver='liblinear', max_iter=1000)\n",
    "        score = cross_val_score(model, X_train, y_train, cv=5, scoring='accuracy').mean()\n",
    "\n",
    "        # Log params and metrics to MLflow\n",
    "        mlflow.log_param(\"C\", params['C'])\n",
    "        mlflow.log_metric(\"cv_accuracy\", score)\n",
    "\n",
    "        return {'loss': -score, 'status': STATUS_OK}\n",
    "\n",
    "# Run Hyperopt optimization\n",
    "trials = Trials()\n",
    "best = fmin(fn=objective, space=search_space, algo=tpe.suggest, max_evals=20, trials=trials)\n",
    "\n",
    "print(\"✅ Best hyperparameter from Hyperopt:\", best)\n"
   ]
  }
 ],
 "metadata": {
  "kernelspec": {
   "display_name": "Python 3",
   "language": "python",
   "name": "python3"
  },
  "language_info": {
   "codemirror_mode": {
    "name": "ipython",
    "version": 3
   },
   "file_extension": ".py",
   "mimetype": "text/x-python",
   "name": "python",
   "nbconvert_exporter": "python",
   "pygments_lexer": "ipython3",
   "version": "3.11.3"
  }
 },
 "nbformat": 4,
 "nbformat_minor": 5
}
